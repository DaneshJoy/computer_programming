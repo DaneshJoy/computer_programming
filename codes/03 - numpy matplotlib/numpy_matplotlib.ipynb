{
  "nbformat": 4,
  "nbformat_minor": 0,
  "metadata": {
    "colab": {
      "provenance": []
    },
    "kernelspec": {
      "name": "python3",
      "display_name": "Python 3"
    },
    "language_info": {
      "name": "python"
    }
  },
  "cells": [
    {
      "cell_type": "code",
      "execution_count": null,
      "metadata": {
        "id": "-dX-7kXlgXNP"
      },
      "outputs": [],
      "source": [
        "import numpy as np\n",
        "import matplotlib.pyplot as plt"
      ]
    },
    {
      "cell_type": "markdown",
      "source": [
        "## Numpy ndarray"
      ],
      "metadata": {
        "id": "ueu1nurQmTrJ"
      }
    },
    {
      "cell_type": "code",
      "source": [
        "my_arr = np.array([1, 2, 3, 4, 5])\n",
        "my_arr * 2"
      ],
      "metadata": {
        "colab": {
          "base_uri": "https://localhost:8080/"
        },
        "id": "D8iXJ_LnhTHW",
        "outputId": "16749a8f-ceac-460f-874a-d7af59b34ae1"
      },
      "execution_count": null,
      "outputs": [
        {
          "output_type": "execute_result",
          "data": {
            "text/plain": [
              "array([ 2,  4,  6,  8, 10])"
            ]
          },
          "metadata": {},
          "execution_count": 7
        }
      ]
    },
    {
      "cell_type": "code",
      "source": [
        "type(my_arr)"
      ],
      "metadata": {
        "colab": {
          "base_uri": "https://localhost:8080/"
        },
        "id": "w1_rpUCdh-ls",
        "outputId": "8fc781b8-ccd3-4be2-fb20-122f495f3906"
      },
      "execution_count": null,
      "outputs": [
        {
          "output_type": "execute_result",
          "data": {
            "text/plain": [
              "numpy.ndarray"
            ]
          },
          "metadata": {},
          "execution_count": 6
        }
      ]
    },
    {
      "cell_type": "markdown",
      "source": [
        "## Get array properties"
      ],
      "metadata": {
        "id": "ms0aqLWwmZjE"
      }
    },
    {
      "cell_type": "code",
      "source": [
        "my_arr.ndim"
      ],
      "metadata": {
        "colab": {
          "base_uri": "https://localhost:8080/"
        },
        "id": "Rrns6CffiVqy",
        "outputId": "1f4a6326-9a6e-468a-8bdc-b3c0af138e5b"
      },
      "execution_count": null,
      "outputs": [
        {
          "output_type": "execute_result",
          "data": {
            "text/plain": [
              "1"
            ]
          },
          "metadata": {},
          "execution_count": 8
        }
      ]
    },
    {
      "cell_type": "code",
      "source": [
        "my_arr.shape"
      ],
      "metadata": {
        "colab": {
          "base_uri": "https://localhost:8080/"
        },
        "id": "LVamEzvXibxQ",
        "outputId": "aacad372-4bb4-480f-8ff7-242b8711b8ea"
      },
      "execution_count": null,
      "outputs": [
        {
          "output_type": "execute_result",
          "data": {
            "text/plain": [
              "(5,)"
            ]
          },
          "metadata": {},
          "execution_count": 14
        }
      ]
    },
    {
      "cell_type": "code",
      "source": [
        "my_arr.dtype"
      ],
      "metadata": {
        "colab": {
          "base_uri": "https://localhost:8080/"
        },
        "id": "1C3zGN4WmcEy",
        "outputId": "d05b7c0b-5d0c-425f-d80f-727125fca7d3"
      },
      "execution_count": null,
      "outputs": [
        {
          "output_type": "execute_result",
          "data": {
            "text/plain": [
              "dtype('int64')"
            ]
          },
          "metadata": {},
          "execution_count": 24
        }
      ]
    },
    {
      "cell_type": "code",
      "source": [
        "my_arr2 = np.array([[1, 2, 3, 4, 5]])\n",
        "my_arr2.shape"
      ],
      "metadata": {
        "colab": {
          "base_uri": "https://localhost:8080/"
        },
        "id": "2mQ8cUjQi8Oh",
        "outputId": "b9cfbc71-0052-4ea0-ada2-f1ed6c4aa7bb"
      },
      "execution_count": null,
      "outputs": [
        {
          "output_type": "execute_result",
          "data": {
            "text/plain": [
              "(1, 5)"
            ]
          },
          "metadata": {},
          "execution_count": 13
        }
      ]
    },
    {
      "cell_type": "markdown",
      "source": [
        "## More dimentions"
      ],
      "metadata": {
        "id": "LBY85JYqmlPG"
      }
    },
    {
      "cell_type": "code",
      "source": [
        "my_arr3 = np.array([[1, 2, 3],\n",
        "                    [4, 5, 6]])\n",
        "my_arr3.shape"
      ],
      "metadata": {
        "colab": {
          "base_uri": "https://localhost:8080/"
        },
        "id": "17yWIOxQjbx1",
        "outputId": "d5330bea-f23c-4287-923c-ac4200aaf025"
      },
      "execution_count": null,
      "outputs": [
        {
          "output_type": "execute_result",
          "data": {
            "text/plain": [
              "(2, 3)"
            ]
          },
          "metadata": {},
          "execution_count": 17
        }
      ]
    },
    {
      "cell_type": "code",
      "source": [
        "print(my_arr3)"
      ],
      "metadata": {
        "colab": {
          "base_uri": "https://localhost:8080/"
        },
        "id": "D9wDRpnaj4Q4",
        "outputId": "05bf2467-d629-44ad-e905-d4ea410499ce"
      },
      "execution_count": null,
      "outputs": [
        {
          "output_type": "stream",
          "name": "stdout",
          "text": [
            "[[1 2 3]\n",
            " [4 5 6]]\n"
          ]
        }
      ]
    },
    {
      "cell_type": "markdown",
      "source": [
        "## Vector operations"
      ],
      "metadata": {
        "id": "25RzbPUEmoG0"
      }
    },
    {
      "cell_type": "code",
      "source": [
        "arr1 = np.array([1, 2, 3])\n",
        "arr2 = np.array([2, 2, 2])"
      ],
      "metadata": {
        "id": "HFijW_AAkKMO"
      },
      "execution_count": null,
      "outputs": []
    },
    {
      "cell_type": "code",
      "source": [
        "dot_product = np.dot(arr1, arr2)\n",
        "vector_multiplication = arr1 * arr2\n",
        "print(\"Dot product:\", dot_product)\n",
        "print(\"Vector multiplication:\", vector_multiplication)"
      ],
      "metadata": {
        "colab": {
          "base_uri": "https://localhost:8080/"
        },
        "id": "cxkwOg7CkrlR",
        "outputId": "edc8dfe0-c404-4158-d91e-7e950fe9c73e"
      },
      "execution_count": null,
      "outputs": [
        {
          "output_type": "stream",
          "name": "stdout",
          "text": [
            "Dot product: 12\n",
            "Vector multiplication: [2 4 6]\n"
          ]
        }
      ]
    },
    {
      "cell_type": "markdown",
      "source": [
        "## Create zero/one ndarrays"
      ],
      "metadata": {
        "id": "kgytMGwOprC5"
      }
    },
    {
      "cell_type": "code",
      "source": [
        "zeros = np.zeros([2, 2, 2])\n",
        "zeros"
      ],
      "metadata": {
        "colab": {
          "base_uri": "https://localhost:8080/"
        },
        "id": "qtyrUBPUpqpl",
        "outputId": "9f927ca9-23c7-4be3-9784-0ec2d2267683"
      },
      "execution_count": null,
      "outputs": [
        {
          "output_type": "execute_result",
          "data": {
            "text/plain": [
              "array([[[0., 0.],\n",
              "        [0., 0.]],\n",
              "\n",
              "       [[0., 0.],\n",
              "        [0., 0.]]])"
            ]
          },
          "metadata": {},
          "execution_count": 37
        }
      ]
    },
    {
      "cell_type": "code",
      "source": [
        "ones = np.ones([2, 3, 2])\n",
        "ones"
      ],
      "metadata": {
        "colab": {
          "base_uri": "https://localhost:8080/"
        },
        "id": "pijWXwkRqLrM",
        "outputId": "5e2048ac-4c43-47c5-fb14-62536d683bd9"
      },
      "execution_count": null,
      "outputs": [
        {
          "output_type": "execute_result",
          "data": {
            "text/plain": [
              "array([[[1., 1.],\n",
              "        [1., 1.],\n",
              "        [1., 1.]],\n",
              "\n",
              "       [[1., 1.],\n",
              "        [1., 1.],\n",
              "        [1., 1.]]])"
            ]
          },
          "metadata": {},
          "execution_count": 40
        }
      ]
    },
    {
      "cell_type": "code",
      "source": [
        "ones.shape"
      ],
      "metadata": {
        "colab": {
          "base_uri": "https://localhost:8080/"
        },
        "id": "NLrnrAGVqVP-",
        "outputId": "37f2105a-2201-43f8-d3d3-5dc22db84062"
      },
      "execution_count": null,
      "outputs": [
        {
          "output_type": "execute_result",
          "data": {
            "text/plain": [
              "(2, 2, 2)"
            ]
          },
          "metadata": {},
          "execution_count": 39
        }
      ]
    },
    {
      "cell_type": "code",
      "source": [
        "x = np.random.normal(size=(2, 3))\n",
        "x"
      ],
      "metadata": {
        "colab": {
          "base_uri": "https://localhost:8080/"
        },
        "id": "PoQRYQWKqsuk",
        "outputId": "436d9901-cdc0-4296-fb3e-893e0239d556"
      },
      "execution_count": null,
      "outputs": [
        {
          "output_type": "execute_result",
          "data": {
            "text/plain": [
              "array([[-0.63331754, -0.02908638,  1.71194246],\n",
              "       [ 1.24704332,  0.61319164, -1.07931329]])"
            ]
          },
          "metadata": {},
          "execution_count": 43
        }
      ]
    },
    {
      "cell_type": "code",
      "source": [
        "x.round(2)"
      ],
      "metadata": {
        "colab": {
          "base_uri": "https://localhost:8080/"
        },
        "id": "_5WK1Q8BrBMm",
        "outputId": "f21505a8-8ded-43e3-9203-f75b5d3ce3de"
      },
      "execution_count": null,
      "outputs": [
        {
          "output_type": "execute_result",
          "data": {
            "text/plain": [
              "array([[-0.63, -0.03,  1.71],\n",
              "       [ 1.25,  0.61, -1.08]])"
            ]
          },
          "metadata": {},
          "execution_count": 44
        }
      ]
    },
    {
      "cell_type": "markdown",
      "source": [
        "## Matrice operations"
      ],
      "metadata": {
        "id": "x7wzT0ScmqPU"
      }
    },
    {
      "cell_type": "code",
      "source": [
        "mat1 = np.array([[1, 2, 3],\n",
        "                 [1, 2, 3]])\n",
        "\n",
        "mat2 = np.array([[2, 2, 2],\n",
        "                 [2, 2, 2]])\n",
        "\n",
        "mat2 = np.transpose(mat2)\n",
        "\n",
        "mat_multiplication = np.matmul(mat1, mat2)\n",
        "print(\"Matrix multiplication:\")\n",
        "print(mat_multiplication)"
      ],
      "metadata": {
        "colab": {
          "base_uri": "https://localhost:8080/"
        },
        "id": "pLbfACgClZ3v",
        "outputId": "8acabd7f-9910-457b-9dc5-80cfec15608f"
      },
      "execution_count": null,
      "outputs": [
        {
          "output_type": "stream",
          "name": "stdout",
          "text": [
            "Matrix multiplication:\n",
            "[[12 12]\n",
            " [12 12]]\n"
          ]
        }
      ]
    },
    {
      "cell_type": "markdown",
      "source": [
        "## Create a sinusoidal signal"
      ],
      "metadata": {
        "id": "oUAsS4TDnGWb"
      }
    },
    {
      "cell_type": "code",
      "source": [
        "x = np.linspace(0, 2*np.pi, 1000)"
      ],
      "metadata": {
        "id": "JqcIItJFny_e"
      },
      "execution_count": null,
      "outputs": []
    },
    {
      "cell_type": "code",
      "source": [
        "x.shape"
      ],
      "metadata": {
        "colab": {
          "base_uri": "https://localhost:8080/"
        },
        "id": "r3hqv-h_n4l7",
        "outputId": "08c95b6c-c4b2-4da7-bf0e-6c823e80f2f9"
      },
      "execution_count": null,
      "outputs": [
        {
          "output_type": "execute_result",
          "data": {
            "text/plain": [
              "(1000,)"
            ]
          },
          "metadata": {},
          "execution_count": 30
        }
      ]
    },
    {
      "cell_type": "code",
      "source": [
        "y1 = np.sin(x)"
      ],
      "metadata": {
        "id": "DMdU9MGmnJZt"
      },
      "execution_count": null,
      "outputs": []
    },
    {
      "cell_type": "code",
      "source": [
        "y1.shape"
      ],
      "metadata": {
        "colab": {
          "base_uri": "https://localhost:8080/"
        },
        "id": "gD--wukUoAqA",
        "outputId": "a4b8c83c-16c8-4e27-d130-0a116ed05494"
      },
      "execution_count": null,
      "outputs": [
        {
          "output_type": "execute_result",
          "data": {
            "text/plain": [
              "(1000,)"
            ]
          },
          "metadata": {},
          "execution_count": 57
        }
      ]
    },
    {
      "cell_type": "markdown",
      "source": [
        "## Plot the signal"
      ],
      "metadata": {
        "id": "Ej4ldz-koTTs"
      }
    },
    {
      "cell_type": "code",
      "source": [
        "plt.figure(figsize=(3, 2))\n",
        "plt.plot(y1)\n",
        "plt.show()"
      ],
      "metadata": {
        "colab": {
          "base_uri": "https://localhost:8080/",
          "height": 214
        },
        "id": "m5gBDixzoCJB",
        "outputId": "cafb0714-1cfd-4d7c-b74d-7c79d1d760e5"
      },
      "execution_count": null,
      "outputs": [
        {
          "output_type": "display_data",
          "data": {
            "text/plain": [
              "<Figure size 300x200 with 1 Axes>"
            ],
            "image/png": "[encoded data removed]"
          },
          "metadata": {}
        }
      ]
    },
    {
      "cell_type": "code",
      "source": [
        "plt.figure(figsize=(3, 2))\n",
        "plt.plot(x, y1)\n",
        "plt.show()"
      ],
      "metadata": {
        "colab": {
          "base_uri": "https://localhost:8080/",
          "height": 214
        },
        "id": "Vz3c9_k9okhS",
        "outputId": "05750ed3-4bdc-4858-889d-d93350691bc3"
      },
      "execution_count": null,
      "outputs": [
        {
          "output_type": "display_data",
          "data": {
            "text/plain": [
              "<Figure size 300x200 with 1 Axes>"
            ],
            "image/png": "[encoded data removed]"
          },
          "metadata": {}
        }
      ]
    },
    {
      "cell_type": "code",
      "source": [
        "y2 = -np.cos(x) + 1\n",
        "plt.figure(figsize=(3, 2))\n",
        "plt.plot(x, y2)\n",
        "plt.show()"
      ],
      "metadata": {
        "colab": {
          "base_uri": "https://localhost:8080/",
          "height": 214
        },
        "id": "HhPxkWMSow89",
        "outputId": "6f30ea8b-3085-41fb-de36-a218117b2be7"
      },
      "execution_count": null,
      "outputs": [
        {
          "output_type": "display_data",
          "data": {
            "text/plain": [
              "<Figure size 300x200 with 1 Axes>"
            ],
            "image/png": "[encoded data removed]"
          },
          "metadata": {}
        }
      ]
    },
    {
      "cell_type": "markdown",
      "source": [
        "## Plot multiple signals"
      ],
      "metadata": {
        "id": "FEfSoE0Rtstp"
      }
    },
    {
      "cell_type": "markdown",
      "source": [
        "colors: r, g, b, c, m, y, k\n",
        "\n",
        "styles: -, --, -., ., *, ..."
      ],
      "metadata": {
        "id": "VNG1Gk9LuNT1"
      }
    },
    {
      "cell_type": "code",
      "source": [
        "plt.figure(figsize=(5, 3))\n",
        "plt.plot(x, y1, 'm-.', label='sin(x)')\n",
        "plt.plot(x, y2, 'g--', label='-cos(x)+1')\n",
        "plt.title('My signals')\n",
        "plt.xlabel('time')\n",
        "plt.ylabel('amplitude')\n",
        "plt.legend()\n",
        "plt.show()"
      ],
      "metadata": {
        "colab": {
          "base_uri": "https://localhost:8080/",
          "height": 333
        },
        "id": "0h244s9OpDLT",
        "outputId": "667ff82f-6f8d-4f04-ae99-6d8920aa149a"
      },
      "execution_count": null,
      "outputs": [
        {
          "output_type": "display_data",
          "data": {
            "text/plain": [
              "<Figure size 500x300 with 1 Axes>"
            ],
            "image/png": "[encoded data removed]"
          },
          "metadata": {}
        }
      ]
    },
    {
      "cell_type": "code",
      "source": [],
      "metadata": {
        "id": "EoobigaPtfn3"
      },
      "execution_count": null,
      "outputs": []
    }
  ]
}